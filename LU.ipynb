{
  "nbformat": 4,
  "nbformat_minor": 0,
  "metadata": {
    "colab": {
      "provenance": [],
      "authorship_tag": "ABX9TyOc+0KkIRWELl6NVqx6pd3h",
      "include_colab_link": true
    },
    "kernelspec": {
      "name": "python3",
      "display_name": "Python 3"
    },
    "language_info": {
      "name": "python"
    }
  },
  "cells": [
    {
      "cell_type": "markdown",
      "metadata": {
        "id": "view-in-github",
        "colab_type": "text"
      },
      "source": [
        "<a href=\"https://colab.research.google.com/github/ZeyadWaleed7/Numerical-Methods-MATH-307-/blob/main/LU.ipynb\" target=\"_parent\"><img src=\"https://colab.research.google.com/assets/colab-badge.svg\" alt=\"Open In Colab\"/></a>"
      ]
    },
    {
      "cell_type": "code",
      "execution_count": 1,
      "metadata": {
        "colab": {
          "base_uri": "https://localhost:8080/"
        },
        "id": "VUcnEn_9Tw1I",
        "outputId": "111a5940-8013-446a-99b5-7ccf4f20e16d"
      },
      "outputs": [
        {
          "output_type": "stream",
          "name": "stdout",
          "text": [
            "Original Matrix (A):\n",
            " [[ 2. -1.  1.]\n",
            " [ 3.  3.  9.]\n",
            " [ 3.  3.  5.]]\n",
            "\n",
            "Manual LU Decomposition:\n",
            "Lower Triangular Matrix (L):\n",
            " [[1.  0.  0. ]\n",
            " [1.5 1.  0. ]\n",
            " [1.5 1.  1. ]]\n",
            "Upper Triangular Matrix (U):\n",
            " [[ 2.  -1.   1. ]\n",
            " [ 0.   4.5  7.5]\n",
            " [ 0.   0.  -4. ]]\n",
            "\n",
            "Reconstructed A (LU):\n",
            " [[ 2. -1.  1.]\n",
            " [ 3.  3.  9.]\n",
            " [ 3.  3.  5.]]\n",
            "\n",
            "Is A equal to LU? True\n",
            "\n",
            "SciPy's LU Decomposition:\n",
            "SciPy L:\n",
            " [[ 1.          0.          0.        ]\n",
            " [ 0.66666667  1.          0.        ]\n",
            " [ 1.         -0.          1.        ]]\n",
            "SciPy U:\n",
            " [[ 3.  3.  9.]\n",
            " [ 0. -3. -5.]\n",
            " [ 0.  0. -4.]]\n"
          ]
        }
      ],
      "source": [
        "import numpy as np\n",
        "import matplotlib.pyplot as plt\n",
        "import seaborn as sns\n",
        "import scipy.linalg  # Import SciPy's linear algebra module\n",
        "\n",
        "def lu_decomposition(A):\n",
        "    \"\"\"Performs LU decomposition of a 3x3 matrix A.\"\"\"\n",
        "\n",
        "    n = A.shape[0]  # Get the size of the matrix (n=3 for a 3x3 matrix)\n",
        "\n",
        "    # Step 1: Initialize matrices\n",
        "    L = np.eye(n)  # Start L as an identity matrix\n",
        "    U = np.zeros((n, n))  # Start U as a zero matrix\n",
        "\n",
        "    # Step 2: Compute U (Upper Triangular)\n",
        "    for i in range(n):\n",
        "        for j in range(i, n):\n",
        "            total = 0  # Reset sum\n",
        "            for k in range(i):\n",
        "                total += L[i, k] * U[k, j]  # Compute sum of previous multiplications\n",
        "            U[i, j] = A[i, j] - total  # Assign the final value to U[i, j]\n",
        "\n",
        "        # Step 3: Compute L (Lower Triangular)\n",
        "        for j in range(i+1, n):\n",
        "            total = 0  # Reset sum\n",
        "            for k in range(i):\n",
        "                total += L[j, k] * U[k, i]  # Compute sum of previous multiplications\n",
        "            L[j, i] = (A[j, i] - total) / U[i, i]  # Assign the final value to L[j, i]\n",
        "\n",
        "    return L, U  # Return the calculated matrices\n",
        "\n",
        "\n",
        "# Define a 3x3 matrix\n",
        "A = np.array([[2, -1, 1],\n",
        "              [3, 3, 9],\n",
        "              [3, 3, 5]], dtype=float)\n",
        "\n",
        "# Perform LU decomposition (manual implementation)\n",
        "L, U = lu_decomposition(A)\n",
        "\n",
        "# Verify with SciPy's built-in LU function\n",
        "P, L_scipy, U_scipy = scipy.linalg.lu(A)\n",
        "\n",
        "# Print results\n",
        "print(\"Original Matrix (A):\\n\", A)\n",
        "print(\"\\nManual LU Decomposition:\")\n",
        "print(\"Lower Triangular Matrix (L):\\n\", L)\n",
        "print(\"Upper Triangular Matrix (U):\\n\", U)\n",
        "\n",
        "# Verify A = LU using SciPy's inverse function\n",
        "LU = np.dot(L, U)\n",
        "print(\"\\nReconstructed A (LU):\\n\", LU)\n",
        "print(\"\\nIs A equal to LU?\", np.allclose(A, LU))  # Check if A and LU are almost equal\n",
        "\n",
        "# Compare with SciPy's LU\n",
        "print(\"\\nSciPy's LU Decomposition:\")\n",
        "print(\"SciPy L:\\n\", L_scipy)\n",
        "print(\"SciPy U:\\n\", U_scipy)\n"
      ]
    }
  ]
}